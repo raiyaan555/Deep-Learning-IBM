{
 "cells": [
  {
   "cell_type": "code",
   "execution_count": 2,
   "id": "4ca392b8",
   "metadata": {},
   "outputs": [
    {
     "name": "stdout",
     "output_type": "stream",
     "text": [
      "Hello Welcome to Python Session\n"
     ]
    }
   ],
   "source": [
    "print(\"Hello Welcome to Python Session\")"
   ]
  },
  {
   "cell_type": "code",
   "execution_count": null,
   "id": "3949d753",
   "metadata": {},
   "outputs": [],
   "source": []
  }
 ],
 "metadata": {
  "kernelspec": {
   "display_name": "Python 3 (ipykernel)",
   "language": "python",
   "name": "python3"
  },
  "language_info": {
   "codemirror_mode": {
    "name": "ipython",
    "version": 3
   },
   "file_extension": ".py",
   "mimetype": "text/x-python",
   "name": "python",
   "nbconvert_exporter": "python",
   "pygments_lexer": "ipython3",
   "version": "3.9.12"
  }
 },
 "nbformat": 4,
 "nbformat_minor": 5
}
